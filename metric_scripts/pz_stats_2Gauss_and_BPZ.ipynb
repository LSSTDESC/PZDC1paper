{
 "cells": [
  {
   "cell_type": "markdown",
   "metadata": {},
   "source": [
    "# PZ DC1 Metrics Script\n",
    "_Sam Schmidt, Alex Malz, Rongpu Zhou, Chris Morrison, Karthiek Iyer, Bryce Kalmbach, Jeff Newman_\n",
    "\n",
    "The purpose of this script is to demonstrate the use of the metrics scripts to be used on the photo-$z$ PDF catalogs produced by the PZ working group for the DC1 paper."
   ]
  },
  {
   "cell_type": "markdown",
   "metadata": {},
   "source": [
    "To run this code, you must install [`qp`](https://github.com/aimalz/qp) and have the notebook in the same directory as `individual_metrics.py`.  You must also install some run-of-the-mill Python packages: `matplotlib`, `numpy`, `scipy`, and `skgof`."
   ]
  },
  {
   "cell_type": "code",
   "execution_count": null,
   "metadata": {
    "collapsed": false
   },
   "outputs": [],
   "source": [
    "import numpy as np\n",
    "import matplotlib.pyplot as plt\n",
    "import scipy.stats as ss\n",
    "import qp\n",
    "import individual_metrics as inmet\n",
    "import skgof\n",
    "%matplotlib inline"
   ]
  },
  {
   "cell_type": "markdown",
   "metadata": {},
   "source": [
    "We'll start with two Gaussian distributions defined in some interval.\n",
    "_What is the significance of the constant coefficients on the PDFs?  Why not just use normalized PDFs everywhere?  --aimalz_"
   ]
  },
  {
   "cell_type": "code",
   "execution_count": null,
   "metadata": {
    "collapsed": false
   },
   "outputs": [],
   "source": [
    "x = np.arange(0.5,10.0,0.02)\n",
    "func1 = ss.norm(loc=3.0,scale=0.5)\n",
    "func2= ss.norm(loc=5.0,scale=0.35)\n",
    "# y1 = func1.pdf(x)*20000./0.25*0.1\n",
    "# y2 = func2.pdf(x)*40000./0.35*0.1\n",
    "y1 = 1.*func1.pdf(x)\n",
    "y2 = 2.*func2.pdf(x)"
   ]
  },
  {
   "cell_type": "markdown",
   "metadata": {},
   "source": [
    "We take samples from them and plot a histogram to confirm the samples follow the distribution."
   ]
  },
  {
   "cell_type": "code",
   "execution_count": null,
   "metadata": {
    "collapsed": false
   },
   "outputs": [],
   "source": [
    "# n_samp1, n_samp2 = 20000, 40000\n",
    "n_samp1, n_samp2 = 20, 40\n",
    "# samples1 = np.array(func1.rvs(size=n_samp1))\n",
    "# samples2 = np.array(func2.rvs(size=n_samp2))\n",
    "# plt.hist(samples1, normed=False, histtype='stepfilled', alpha=0.2)\n",
    "# plt.hist(samples2, normed=False, histtype='stepfilled', alpha=0.2)\n",
    "samples1 = np.array(func1.rvs(size=n_samp1))\n",
    "samples2 = np.array(func2.rvs(size=n_samp2))\n",
    "plt.hist(samples1, normed=True, histtype='stepfilled', alpha=0.2)\n",
    "plt.hist(samples2, normed=True, histtype='stepfilled', alpha=0.2)\n",
    "plt.plot(x,y1,lw=2,c='r')\n",
    "plt.plot(x,y2,lw=2,c='b')"
   ]
  },
  {
   "cell_type": "markdown",
   "metadata": {},
   "source": [
    "When we combine all the samples together, we have samples from a two-component Gaussian mixture.  These will be the true redshifts $\\{z_{i}\\}_{N}$ of our catalog."
   ]
  },
  {
   "cell_type": "code",
   "execution_count": null,
   "metadata": {
    "collapsed": false
   },
   "outputs": [],
   "source": [
    "bigsample = np.append(samples1,samples2)\n",
    "n_tot = len(bigsample)\n",
    "print(n_tot)\n",
    "assert(n_tot == n_samp1 + n_samp2)"
   ]
  },
  {
   "cell_type": "markdown",
   "metadata": {},
   "source": [
    "Now we populate a catalog of PDFs $\\{p_{i}(z)\\}_{N}$ using the components of the Gaussian mixture evaluated on a grid using the `qp.Ensemble` class."
   ]
  },
  {
   "cell_type": "code",
   "execution_count": null,
   "metadata": {
    "collapsed": false
   },
   "outputs": [],
   "source": [
    "smallgrid = np.ones([n_tot,len(y1)])\n",
    "# for i in range(n_samp1):\n",
    "#     smallgrid[i,:] = y1\n",
    "# for i in range(n_samp1, n_tot):\n",
    "#     smallgrid[i,:] = y2\n",
    "smallgrid[:n_samp1] *= y1[np.newaxis, :]\n",
    "smallgrid[n_samp1:] *= y2[np.newaxis, :]\n",
    "approx_pdf = qp.Ensemble(n_tot, gridded=(x, smallgrid))"
   ]
  },
  {
   "cell_type": "markdown",
   "metadata": {},
   "source": [
    "We create an `individual_metrics.EvaluateMetric` object from the catalog and the true redshifts."
   ]
  },
  {
   "cell_type": "code",
   "execution_count": null,
   "metadata": {
    "collapsed": true
   },
   "outputs": [],
   "source": [
    "testme = inmet.EvaluateMetric(approx_pdf, bigsample)"
   ]
  },
  {
   "cell_type": "markdown",
   "metadata": {},
   "source": [
    "The first metric we calculate is the Probability Integral Transform (PIT), \n",
    "\\begin{equation*}\n",
    "\\mathrm{PIT}(p_{i}(z);\\ z_{i})\\ =\\ \\int_{-\\infty}^{z_{i}}\\ p_{i}(z)\\ dz,\n",
    "\\end{equation*}\n",
    "for every galxy $i$ in the catalog."
   ]
  },
  {
   "cell_type": "code",
   "execution_count": null,
   "metadata": {
    "collapsed": false
   },
   "outputs": [],
   "source": [
    "testPIT = testme.PIT()"
   ]
  },
  {
   "cell_type": "markdown",
   "metadata": {},
   "source": [
    "Next, we calculate the Kolmogorov-Smirnov (KS) test statistic,\n",
    "\\begin{equation*}\n",
    "\\mathrm{KS}(\\{p_{i}(z)\\}_{N};\\ \\{z_{i}\\}_{N})\\ =\\ \\max_{PIT}\\left[ \\left| CDF(\\{PIT(p_{i}(z);\\ z_{i})\\}_{N}) - CDF(\\{z_{i}\\}_{N}) \\right| \\right],\n",
    "\\end{equation*}\n",
    "on the distribution of PIT values, which should be uniform if the PDFs are perfect."
   ]
  },
  {
   "cell_type": "code",
   "execution_count": null,
   "metadata": {
    "collapsed": false
   },
   "outputs": [],
   "source": [
    "ks_stat, ks_pval = testme.KS(using='gridded',dx=0.0001)\n",
    "print ks_stat\n",
    "print ks_pval"
   ]
  },
  {
   "cell_type": "markdown",
   "metadata": {},
   "source": [
    "Similarly, we calculate the Cramer-von Mises (CvM) test statistic,\n",
    "\\begin{equation*}\n",
    "\\mathrm{CvM}(\\{p_{i}(z)\\}_{N};\\ \\{z_{i}\\}_{N})\\ =\\ \\int_{-\\infty}^{\\infty}\\ \\left(CDF(\\{PIT(p_{i}(z);\\ z_{i})\\}_{N})\\ -\\ CDF(\\{z_{i}\\}_{N})\\right)^{2}\\ \\mathrm{d}CDF(\\{z_{i}\\}_{N}),\n",
    "\\end{equation*}\n",
    "on the distribution of PIT values, which should be uniform if the PDFs are perfect."
   ]
  },
  {
   "cell_type": "code",
   "execution_count": null,
   "metadata": {
    "collapsed": false
   },
   "outputs": [],
   "source": [
    "cvm_stat,cvm_pval = testme.CvM(using='gridded',dx=0.0001)\n",
    "print cvm_stat\n",
    "print cvm_pval"
   ]
  },
  {
   "cell_type": "markdown",
   "metadata": {},
   "source": [
    "And the Anderson-Darling (AD) test statistic,\n",
    "\\begin{equation*}\n",
    "\\mathrm{AD}(\\{p_{i}(z)\\}_{N};\\ \\{z_{i}\\}_{N})\\ =\\ \\int_{-\\infty}^{\\infty}\\frac{\\left(CDF(\\{PIT(p_{i}(z);\\ z_{i})\\}_{N})\\ -\\ CDF(\\{z_{i}\\}_{N})\\right)^{2}}{CDF(\\{z_{i}\\}_{N})\\ \\left(1\\ -\\ CDF(\\{z_{i}\\}_{N})\\right)}\\ \\mathrm{d}CDF(\\{z_{i}\\}_{N}),\n",
    "\\end{equation*}\n",
    "on the distribution of PIT values, which should be uniform if the PDFs are perfect.  However, for this test, we cut the ends of the distribution, which represent catastrophic utliers.  \n",
    "_Note: I do not think we should perform this cut unless we don't care about the catastrophic outlier rate; if we do care and still perform this cut, we are losing our sensitivity to measuring it  --aimalz._"
   ]
  },
  {
   "cell_type": "code",
   "execution_count": null,
   "metadata": {
    "collapsed": false
   },
   "outputs": [],
   "source": [
    "ad_stat,ad_pval = testme.AD(using='gridded',dx=0.0001, vmin=0.01,vmax=0.99)\n",
    "print ad_stat\n",
    "print ad_pval"
   ]
  },
  {
   "cell_type": "markdown",
   "metadata": {},
   "source": [
    "We can try this with different cutoff values in $CDF$.  Let's try a less conservative cut first."
   ]
  },
  {
   "cell_type": "code",
   "execution_count": null,
   "metadata": {
    "collapsed": false
   },
   "outputs": [],
   "source": [
    "ad_stat,ad_pval = testme.AD(using='gridded',dx=0.0001, vmin=0.0001,vmax=0.9999)\n",
    "print ad_stat\n",
    "print ad_pval"
   ]
  },
  {
   "cell_type": "markdown",
   "metadata": {},
   "source": [
    "And this is what we get without any cut."
   ]
  },
  {
   "cell_type": "code",
   "execution_count": null,
   "metadata": {
    "collapsed": false
   },
   "outputs": [],
   "source": [
    "ad_stat,ad_pval = testme.AD(using='gridded',dx=0.0001, vmin=0.000,vmax=1.0)\n",
    "print ad_stat\n",
    "print ad_pval"
   ]
  },
  {
   "cell_type": "markdown",
   "metadata": {},
   "source": [
    "We can make a QQ plot as well."
   ]
  },
  {
   "cell_type": "code",
   "execution_count": null,
   "metadata": {
    "collapsed": false
   },
   "outputs": [],
   "source": [
    "qqplot = testme.QQplot(using='gridded',dx=0.0001,Nquants=101)"
   ]
  },
  {
   "cell_type": "markdown",
   "metadata": {
    "collapsed": true
   },
   "source": [
    "# Test with 111k galaxies from the training sample of the DC1 data set from BPZ"
   ]
  },
  {
   "cell_type": "code",
   "execution_count": null,
   "metadata": {
    "collapsed": true
   },
   "outputs": [],
   "source": [
    "infile = \"/Users/samschmidt/PZPAPER/mystuff/test_magscat_trainingfile_probs.out\"\n",
    "szfile = \"/Users/samschmidt/PZPAPER/mystuff/train_justsz.out\"\n",
    "z_array = np.arange(0.0050,2.1100,0.0100) #this is the grid output by BPZ for my runs\n",
    "z_trues = np.loadtxt(szfile,skiprows=1)\n",
    "alldata = np.loadtxt(infile,skiprows=1)\n",
    "ID = alldata[:,0]\n",
    "pzs = alldata[:,1:]\n",
    "ngals = len(ID)"
   ]
  },
  {
   "cell_type": "code",
   "execution_count": null,
   "metadata": {
    "collapsed": false
   },
   "outputs": [],
   "source": [
    "bpz_approx_pdf = qp.Ensemble(pzs.shape[0],gridded=(z_array,pzs))"
   ]
  },
  {
   "cell_type": "code",
   "execution_count": null,
   "metadata": {
    "collapsed": false
   },
   "outputs": [],
   "source": [
    "bpzobj = inmet.EvaluateMetric(bpz_approx_pdf,z_trues)"
   ]
  },
  {
   "cell_type": "code",
   "execution_count": null,
   "metadata": {
    "collapsed": true
   },
   "outputs": [],
   "source": [
    "bpzPIT = bpzobj.PIT()"
   ]
  },
  {
   "cell_type": "code",
   "execution_count": null,
   "metadata": {
    "collapsed": false
   },
   "outputs": [],
   "source": [
    "ks_stat,ks_pval = bpzobj.KS(using='gridded',dx=0.0001)\n",
    "print ks_stat\n",
    "print ks_pval"
   ]
  },
  {
   "cell_type": "code",
   "execution_count": null,
   "metadata": {
    "collapsed": false
   },
   "outputs": [],
   "source": [
    "cvm_stat,cvm_pval=bpzobj.CvM(using='gridded',dx=0.0001)\n",
    "print cvm_stat\n",
    "print cvm_pval"
   ]
  },
  {
   "cell_type": "code",
   "execution_count": null,
   "metadata": {
    "collapsed": false
   },
   "outputs": [],
   "source": [
    "ad_stat,ad_pval=bpzobj.AD(using='gridded',dx=0.0001,vmin=0.05,vmax=0.95)\n",
    "print ad_stat\n",
    "print ad_pval"
   ]
  },
  {
   "cell_type": "code",
   "execution_count": null,
   "metadata": {
    "collapsed": false
   },
   "outputs": [],
   "source": [
    "ad_stat,ad_pval=bpzobj.AD(using='gridded',dx=0.0001,vmin=0.1,vmax=0.9)\n",
    "print ad_stat\n",
    "print ad_pval"
   ]
  },
  {
   "cell_type": "code",
   "execution_count": null,
   "metadata": {
    "collapsed": false
   },
   "outputs": [],
   "source": [
    "ad_stat,ad_pval=bpzobj.AD(using='gridded',dx=0.0001,vmin=0.0,vmax=1.0)\n",
    "print ad_stat\n",
    "print ad_pval"
   ]
  },
  {
   "cell_type": "code",
   "execution_count": null,
   "metadata": {
    "collapsed": false
   },
   "outputs": [],
   "source": [
    "ad_stat,ad_pval=bpzobj.AD(using='gridded',dx=0.0001,vmin=0.8,vmax=0.95)\n",
    "print ad_stat\n",
    "print ad_pval"
   ]
  },
  {
   "cell_type": "code",
   "execution_count": null,
   "metadata": {
    "collapsed": false
   },
   "outputs": [],
   "source": [
    "ad_stat,ad_pval=bpzobj.AD(using='gridded',dx=0.0001,vmin=0.8,vmax=1.0)\n",
    "print ad_stat\n",
    "print ad_pval"
   ]
  },
  {
   "cell_type": "markdown",
   "metadata": {},
   "source": [
    "As an aside, the high p-values look good for BPZ, it's the low PIT percentiles that are off.  But, including the values of 1.0 does take the AD statistic back to a very large number, so outlier trimming is necessary"
   ]
  },
  {
   "cell_type": "code",
   "execution_count": null,
   "metadata": {
    "collapsed": false
   },
   "outputs": [],
   "source": [
    "bpzobj.QQplot(using='gridded',dx=0.0001,Nquants=1001)"
   ]
  },
  {
   "cell_type": "code",
   "execution_count": null,
   "metadata": {
    "collapsed": true
   },
   "outputs": [],
   "source": []
  },
  {
   "cell_type": "code",
   "execution_count": null,
   "metadata": {
    "collapsed": false
   },
   "outputs": [],
   "source": [
    "fig = plt.figure(figsize=(15,15))\n",
    "plt.hist(bpzPIT, normed=False, histtype='stepfilled', alpha=0.7,bins=np.arange(0.0,1.01,.01))\n",
    "plt.xlim([0.0,1.0])\n",
    "plt.xlabel(\"PIT value\",size=18)\n",
    "plt.ylabel(\"Number\",size=18)"
   ]
  },
  {
   "cell_type": "markdown",
   "metadata": {},
   "source": [
    "# Make i<25.3 gold cut"
   ]
  },
  {
   "cell_type": "code",
   "execution_count": null,
   "metadata": {
    "collapsed": true
   },
   "outputs": [],
   "source": [
    "newfile = \"train_idszmag.out\"\n",
    "newdata = np.genfromtxt(newfile)\n",
    "mags = newdata[:,2]"
   ]
  },
  {
   "cell_type": "code",
   "execution_count": null,
   "metadata": {
    "collapsed": false
   },
   "outputs": [],
   "source": [
    "magcut = (mags<25.3)\n",
    "goldzs = z_trues[magcut]\n",
    "goldpzs = pzs[magcut]\n",
    "goldnumgals = len(cutzs)\n",
    "print goldnumgals\n",
    "print goldpzs.shape"
   ]
  },
  {
   "cell_type": "code",
   "execution_count": null,
   "metadata": {
    "collapsed": false
   },
   "outputs": [],
   "source": [
    "gold_pdf = qp.Ensemble(goldpzs.shape[0],gridded=(z_array,goldpzs))"
   ]
  },
  {
   "cell_type": "code",
   "execution_count": null,
   "metadata": {
    "collapsed": true
   },
   "outputs": [],
   "source": [
    "goldbpzobj = inmet.EvaluateMetric(gold_pdf,goldzs)"
   ]
  },
  {
   "cell_type": "code",
   "execution_count": null,
   "metadata": {
    "collapsed": true
   },
   "outputs": [],
   "source": [
    "goldPIT = goldbpzobj.PIT()"
   ]
  },
  {
   "cell_type": "code",
   "execution_count": null,
   "metadata": {
    "collapsed": false
   },
   "outputs": [],
   "source": [
    "ks_stat,ks_pval = goldbpzobj.KS(using='gridded',dx=0.0001)\n",
    "print ks_stat\n",
    "print ks_pval"
   ]
  },
  {
   "cell_type": "code",
   "execution_count": null,
   "metadata": {
    "collapsed": false
   },
   "outputs": [],
   "source": [
    "cvm_stat,cvm_pval=goldbpzobj.CvM(using='gridded',dx=0.0001)\n",
    "print cvm_stat\n",
    "print cvm_pval"
   ]
  },
  {
   "cell_type": "code",
   "execution_count": null,
   "metadata": {
    "collapsed": false
   },
   "outputs": [],
   "source": [
    "ad_stat,ad_pval=goldbpzobj.AD(using='gridded',dx=0.0001,vmin=0.05,vmax=0.95)\n",
    "print ad_stat\n",
    "print ad_pval"
   ]
  },
  {
   "cell_type": "code",
   "execution_count": null,
   "metadata": {
    "collapsed": false
   },
   "outputs": [],
   "source": [
    "ad_stat,ad_pval=goldbpzobj.AD(using='gridded',dx=0.0001,vmin=0.1,vmax=0.9)\n",
    "print ad_stat\n",
    "print ad_pval"
   ]
  },
  {
   "cell_type": "code",
   "execution_count": null,
   "metadata": {
    "collapsed": false
   },
   "outputs": [],
   "source": [
    "ad_stat,ad_pval=goldbpzobj.AD(using='gridded',dx=0.0001,vmin=0.8,vmax=0.95)\n",
    "print ad_stat\n",
    "print ad_pval"
   ]
  },
  {
   "cell_type": "code",
   "execution_count": null,
   "metadata": {
    "collapsed": false
   },
   "outputs": [],
   "source": [
    "goldbpzobj.QQplot(using='gridded',dx=0.0001,Nquants=1001)"
   ]
  },
  {
   "cell_type": "code",
   "execution_count": null,
   "metadata": {
    "collapsed": false
   },
   "outputs": [],
   "source": [
    "fig = plt.figure(figsize=(15,15))\n",
    "plt.hist(goldPIT, normed=False, histtype='stepfilled', alpha=0.7,bins=np.arange(0.0,1.01,.01))\n",
    "plt.xlim([0.0,1.0])\n",
    "plt.xlabel(\"gold sample PIT value\",size=18)\n",
    "plt.ylabel(\"Number\",size=18)"
   ]
  },
  {
   "cell_type": "code",
   "execution_count": null,
   "metadata": {
    "collapsed": true
   },
   "outputs": [],
   "source": []
  }
 ],
 "metadata": {
  "kernelspec": {
   "display_name": "Python 2",
   "language": "python",
   "name": "python2"
  },
  "language_info": {
   "codemirror_mode": {
    "name": "ipython",
    "version": 2
   },
   "file_extension": ".py",
   "mimetype": "text/x-python",
   "name": "python",
   "nbconvert_exporter": "python",
   "pygments_lexer": "ipython2",
   "version": "2.7.13"
  }
 },
 "nbformat": 4,
 "nbformat_minor": 0
}
