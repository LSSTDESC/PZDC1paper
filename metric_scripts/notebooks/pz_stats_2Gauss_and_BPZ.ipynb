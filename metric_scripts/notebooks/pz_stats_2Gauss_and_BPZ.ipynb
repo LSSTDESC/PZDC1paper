{
 "cells": [
  {
   "cell_type": "code",
   "execution_count": 1,
   "metadata": {
    "collapsed": false
   },
   "outputs": [],
   "source": [
    "import numpy as np\n",
    "import matplotlib.pyplot as plt\n",
    "import scipy.stats as ss\n",
    "import qp\n",
    "import individual_metrics as inmet\n",
    "import skgof\n",
    "%matplotlib inline"
   ]
  },
  {
   "cell_type": "markdown",
   "metadata": {},
   "source": [
    "# Test with two Gaussians"
   ]
  },
  {
   "cell_type": "code",
   "execution_count": 2,
   "metadata": {
    "collapsed": false
   },
   "outputs": [],
   "source": [
    "func1 = ss.norm(loc=3.0,scale=0.5)\n",
    "x = np.arange(0.5,10.0,0.02)\n",
    "y1 = func1.pdf(x)*20000./0.25*0.1\n",
    "func2= ss.norm(loc=5.0,scale=0.35)\n",
    "y2 = func2.pdf(x)*40000./0.35*0.1\n"
   ]
  },
  {
   "cell_type": "code",
   "execution_count": 3,
   "metadata": {
    "collapsed": false
   },
   "outputs": [
    {
     "data": {
      "text/plain": [
       "[<matplotlib.lines.Line2D at 0x10eb48ad0>]"
      ]
     },
     "execution_count": 3,
     "metadata": {},
     "output_type": "execute_result"
    },
    {
     "data": {
      "image/png": "[encoded data removed]",
      "text/plain": [
       "<matplotlib.figure.Figure at 0x103e43950>"
      ]
     },
     "metadata": {},
     "output_type": "display_data"
    }
   ],
   "source": [
    "samples1 = np.array(func1.rvs(size=20000))\n",
    "samples2 = np.array(func2.rvs(size=40000))\n",
    "plt.hist(samples1, normed=False, histtype='stepfilled', alpha=0.2)\n",
    "plt.hist(samples2, normed=False, histtype='stepfilled', alpha=0.2)\n",
    "plt.plot(x,y1,lw=2,c='r')\n",
    "plt.plot(x,y2,lw=2,c='b')"
   ]
  },
  {
   "cell_type": "code",
   "execution_count": 4,
   "metadata": {
    "collapsed": false
   },
   "outputs": [
    {
     "name": "stdout",
     "output_type": "stream",
     "text": [
      "60000\n"
     ]
    }
   ],
   "source": [
    "bigsample = np.append(samples1,samples2)\n",
    "print len(bigsample)"
   ]
  },
  {
   "cell_type": "code",
   "execution_count": 5,
   "metadata": {
    "collapsed": false
   },
   "outputs": [
    {
     "name": "stdout",
     "output_type": "stream",
     "text": [
      "made the pool of 4 in 0.0623679161072\n",
      "made the catalog in 122.718238115\n"
     ]
    }
   ],
   "source": [
    "smallgrid=np.zeros([60000,len(y1)])\n",
    "for i in range(20000):\n",
    "    smallgrid[i,:] = y1\n",
    "for i in range(20000,60000):\n",
    "    smallgrid[i,:] = y2\n",
    "approx_pdf = qp.Ensemble(smallgrid.shape[0],gridded=(x,smallgrid))"
   ]
  },
  {
   "cell_type": "code",
   "execution_count": 6,
   "metadata": {
    "collapsed": true
   },
   "outputs": [],
   "source": [
    "testme = inmet.EvaluateMetric(approx_pdf,bigsample)"
   ]
  },
  {
   "cell_type": "code",
   "execution_count": 7,
   "metadata": {
    "collapsed": true
   },
   "outputs": [],
   "source": [
    "testPIT = testme.PIT()"
   ]
  },
  {
   "cell_type": "code",
   "execution_count": 8,
   "metadata": {
    "collapsed": false
   },
   "outputs": [],
   "source": [
    "ks_stat,ks_pval = testme.KS(using='gridded',dx=0.0001)"
   ]
  },
  {
   "cell_type": "code",
   "execution_count": 9,
   "metadata": {
    "collapsed": false
   },
   "outputs": [
    {
     "name": "stdout",
     "output_type": "stream",
     "text": [
      "0.00265728452701\n",
      "0.78956502173\n"
     ]
    }
   ],
   "source": [
    "print ks_stat\n",
    "print ks_pval"
   ]
  },
  {
   "cell_type": "code",
   "execution_count": 10,
   "metadata": {
    "collapsed": false
   },
   "outputs": [
    {
     "name": "stdout",
     "output_type": "stream",
     "text": [
      "0.0513794073338\n",
      "0.867859453451\n"
     ]
    }
   ],
   "source": [
    "cvm_stat,cvm_pval = testme.CvM(using='gridded',dx=0.0001)\n",
    "print cvm_stat\n",
    "print cvm_pval"
   ]
  },
  {
   "cell_type": "code",
   "execution_count": 11,
   "metadata": {
    "collapsed": false
   },
   "outputs": [
    {
     "name": "stdout",
     "output_type": "stream",
     "text": [
      "now with proper uniform range\n",
      "0.36740855471\n",
      "0.88034108617\n"
     ]
    }
   ],
   "source": [
    "ad_stat,ad_pval = testme.AD(using='gridded',dx=0.0001, vmin=0.01,vmax=0.99)\n",
    "print ad_stat\n",
    "print ad_pval"
   ]
  },
  {
   "cell_type": "markdown",
   "metadata": {},
   "source": [
    "change vmin,vmax, see effect"
   ]
  },
  {
   "cell_type": "code",
   "execution_count": 14,
   "metadata": {
    "collapsed": false
   },
   "outputs": [
    {
     "name": "stdout",
     "output_type": "stream",
     "text": [
      "now with proper uniform range\n",
      "0.323428609292\n",
      "0.919578277939\n"
     ]
    }
   ],
   "source": [
    "ad_stat,ad_pval = testme.AD(using='gridded',dx=0.0001, vmin=0.0001,vmax=0.9999)\n",
    "print ad_stat\n",
    "print ad_pval"
   ]
  },
  {
   "cell_type": "code",
   "execution_count": 18,
   "metadata": {
    "collapsed": false
   },
   "outputs": [
    {
     "name": "stdout",
     "output_type": "stream",
     "text": [
      "now with proper uniform range\n",
      "0.322971105248\n",
      "0.919958810636\n"
     ]
    }
   ],
   "source": [
    "ad_stat,ad_pval = testme.AD(using='gridded',dx=0.0001, vmin=0.000,vmax=1.0)\n",
    "print ad_stat\n",
    "print ad_pval"
   ]
  },
  {
   "cell_type": "code",
   "execution_count": 16,
   "metadata": {
    "collapsed": false
   },
   "outputs": [
    {
     "data": {
      "image/png": "[encoded data removed]",
      "text/plain": [
       "<matplotlib.figure.Figure at 0x1110eba50>"
      ]
     },
     "metadata": {},
     "output_type": "display_data"
    }
   ],
   "source": [
    "qqplot = testme.QQplot(using='gridded',dx=0.0001,Nquants=101)"
   ]
  },
  {
   "cell_type": "markdown",
   "metadata": {
    "collapsed": true
   },
   "source": [
    "# Test with 111k galaxies from the training sample of the DC1 data set from BPZ"
   ]
  },
  {
   "cell_type": "code",
   "execution_count": 31,
   "metadata": {
    "collapsed": true
   },
   "outputs": [],
   "source": [
    "infile = \"/Users/samschmidt/PZPAPER/mystuff/test_magscat_trainingfile_probs.out\"\n",
    "szfile = \"/Users/samschmidt/PZPAPER/mystuff/train_justsz.out\"\n",
    "z_array = np.arange(0.0050,2.1100,0.0100) #this is the grid output by BPZ for my runs\n",
    "z_trues = np.loadtxt(szfile,skiprows=1)\n",
    "alldata = np.loadtxt(infile,skiprows=1)\n",
    "ID = alldata[:,0]\n",
    "pzs = alldata[:,1:]\n",
    "ngals = len(ID)"
   ]
  },
  {
   "cell_type": "code",
   "execution_count": 32,
   "metadata": {
    "collapsed": false
   },
   "outputs": [
    {
     "name": "stdout",
     "output_type": "stream",
     "text": [
      "made the pool of 4 in 0.00880789756775\n",
      "made the catalog in 194.218545914\n"
     ]
    }
   ],
   "source": [
    "bpz_approx_pdf = qp.Ensemble(pzs.shape[0],gridded=(z_array,pzs))"
   ]
  },
  {
   "cell_type": "code",
   "execution_count": 33,
   "metadata": {
    "collapsed": false
   },
   "outputs": [],
   "source": [
    "bpzobj = inmet.EvaluateMetric(bpz_approx_pdf,z_trues)"
   ]
  },
  {
   "cell_type": "code",
   "execution_count": 34,
   "metadata": {
    "collapsed": true
   },
   "outputs": [],
   "source": [
    "bpzPIT = bpzobj.PIT()"
   ]
  },
  {
   "cell_type": "code",
   "execution_count": 35,
   "metadata": {
    "collapsed": false
   },
   "outputs": [
    {
     "name": "stdout",
     "output_type": "stream",
     "text": [
      "0.0522342590187\n",
      "0.000148773876209\n"
     ]
    }
   ],
   "source": [
    "ks_stat,ks_pval = bpzobj.KS(using='gridded',dx=0.0001)\n",
    "print ks_stat\n",
    "print ks_pval"
   ]
  },
  {
   "cell_type": "code",
   "execution_count": 36,
   "metadata": {
    "collapsed": false
   },
   "outputs": [
    {
     "name": "stdout",
     "output_type": "stream",
     "text": [
      "118.865224286\n",
      "0.0111390104363\n"
     ]
    }
   ],
   "source": [
    "cvm_stat,cvm_pval=bpzobj.CvM(using='gridded',dx=0.0001)\n",
    "print cvm_stat\n",
    "print cvm_pval"
   ]
  },
  {
   "cell_type": "code",
   "execution_count": 37,
   "metadata": {
    "collapsed": false
   },
   "outputs": [
    {
     "name": "stdout",
     "output_type": "stream",
     "text": [
      "now with proper uniform range\n",
      "397.376691407\n",
      "5.94012350419e-09\n"
     ]
    }
   ],
   "source": [
    "ad_stat,ad_pval=bpzobj.AD(using='gridded',dx=0.0001,vmin=0.05,vmax=0.95)\n",
    "print ad_stat\n",
    "print ad_pval"
   ]
  },
  {
   "cell_type": "code",
   "execution_count": 40,
   "metadata": {
    "collapsed": false
   },
   "outputs": [
    {
     "name": "stdout",
     "output_type": "stream",
     "text": [
      "now with proper uniform range\n",
      "182.847416027\n",
      "6.5467162802e-09\n"
     ]
    }
   ],
   "source": [
    "ad_stat,ad_pval=bpzobj.AD(using='gridded',dx=0.0001,vmin=0.1,vmax=0.9)\n",
    "print ad_stat\n",
    "print ad_pval"
   ]
  },
  {
   "cell_type": "code",
   "execution_count": 39,
   "metadata": {
    "collapsed": false
   },
   "outputs": [
    {
     "name": "stdout",
     "output_type": "stream",
     "text": [
      "now with proper uniform range\n",
      "754.487072267\n",
      "5.39966527047e-09\n"
     ]
    }
   ],
   "source": [
    "ad_stat,ad_pval=bpzobj.AD(using='gridded',dx=0.0001,vmin=0.0,vmax=1.0)\n",
    "print ad_stat\n",
    "print ad_pval"
   ]
  },
  {
   "cell_type": "code",
   "execution_count": 41,
   "metadata": {
    "collapsed": false
   },
   "outputs": [
    {
     "name": "stdout",
     "output_type": "stream",
     "text": [
      "now with proper uniform range\n",
      "0.424200293142\n",
      "0.824431592523\n"
     ]
    }
   ],
   "source": [
    "ad_stat,ad_pval=bpzobj.AD(using='gridded',dx=0.0001,vmin=0.8,vmax=0.95)\n",
    "print ad_stat\n",
    "print ad_pval"
   ]
  },
  {
   "cell_type": "code",
   "execution_count": 51,
   "metadata": {
    "collapsed": false
   },
   "outputs": [
    {
     "name": "stdout",
     "output_type": "stream",
     "text": [
      "now with proper uniform range\n",
      "175.692904614\n",
      "2.56717439528e-08\n"
     ]
    }
   ],
   "source": [
    "ad_stat,ad_pval=bpzobj.AD(using='gridded',dx=0.0001,vmin=0.8,vmax=1.0)\n",
    "print ad_stat\n",
    "print ad_pval"
   ]
  },
  {
   "cell_type": "markdown",
   "metadata": {},
   "source": [
    "As an aside, the high p-values look good for BPZ, it's the low PIT percentiles that are off.  But, including the values of 1.0 does take the AD statistic back to a very large number, so outlier trimming is necessary"
   ]
  },
  {
   "cell_type": "code",
   "execution_count": 38,
   "metadata": {
    "collapsed": false
   },
   "outputs": [
    {
     "data": {
      "image/png": "[encoded data removed]",
      "text/plain": [
       "<matplotlib.figure.Figure at 0x134fe9090>"
      ]
     },
     "metadata": {},
     "output_type": "display_data"
    }
   ],
   "source": [
    "bpzobj.QQplot(using='gridded',dx=0.0001,Nquants=1001)"
   ]
  },
  {
   "cell_type": "code",
   "execution_count": null,
   "metadata": {
    "collapsed": true
   },
   "outputs": [],
   "source": []
  },
  {
   "cell_type": "code",
   "execution_count": 52,
   "metadata": {
    "collapsed": false
   },
   "outputs": [
    {
     "data": {
      "text/plain": [
       "<matplotlib.text.Text at 0x17fb4b890>"
      ]
     },
     "execution_count": 52,
     "metadata": {},
     "output_type": "execute_result"
    },
    {
     "data": {
      "image/png": "[encoded data removed]",
      "text/plain": [
       "<matplotlib.figure.Figure at 0x1462b0550>"
      ]
     },
     "metadata": {},
     "output_type": "display_data"
    }
   ],
   "source": [
    "fig = plt.figure(figsize=(15,15))\n",
    "plt.hist(bpzPIT, normed=False, histtype='stepfilled', alpha=0.7,bins=np.arange(0.0,1.01,.01))\n",
    "plt.xlim([0.0,1.0])\n",
    "plt.xlabel(\"PIT value\",size=18)\n",
    "plt.ylabel(\"Number\",size=18)"
   ]
  },
  {
   "cell_type": "markdown",
   "metadata": {},
   "source": [
    "# Make i<25.3 gold cut"
   ]
  },
  {
   "cell_type": "code",
   "execution_count": 55,
   "metadata": {
    "collapsed": true
   },
   "outputs": [],
   "source": [
    "newfile = \"train_idszmag.out\"\n",
    "newdata = np.genfromtxt(newfile)\n",
    "mags = newdata[:,2]"
   ]
  },
  {
   "cell_type": "code",
   "execution_count": 58,
   "metadata": {
    "collapsed": false
   },
   "outputs": [
    {
     "name": "stdout",
     "output_type": "stream",
     "text": [
      "44404\n",
      "(44404, 211)\n"
     ]
    }
   ],
   "source": [
    "magcut = (mags<25.3)\n",
    "goldzs = z_trues[magcut]\n",
    "goldpzs = pzs[magcut]\n",
    "goldnumgals = len(cutzs)\n",
    "print goldnumgals\n",
    "print goldpzs.shape"
   ]
  },
  {
   "cell_type": "code",
   "execution_count": 60,
   "metadata": {
    "collapsed": false
   },
   "outputs": [
    {
     "name": "stdout",
     "output_type": "stream",
     "text": [
      "made the pool of 4 in 0.0213971138\n",
      "made the catalog in 84.8325541019\n"
     ]
    }
   ],
   "source": [
    "gold_pdf = qp.Ensemble(goldpzs.shape[0],gridded=(z_array,goldpzs))"
   ]
  },
  {
   "cell_type": "code",
   "execution_count": 61,
   "metadata": {
    "collapsed": true
   },
   "outputs": [],
   "source": [
    "goldbpzobj = inmet.EvaluateMetric(gold_pdf,goldzs)"
   ]
  },
  {
   "cell_type": "code",
   "execution_count": 62,
   "metadata": {
    "collapsed": true
   },
   "outputs": [],
   "source": [
    "goldPIT = goldbpzobj.PIT()"
   ]
  },
  {
   "cell_type": "code",
   "execution_count": 63,
   "metadata": {
    "collapsed": false
   },
   "outputs": [
    {
     "name": "stdout",
     "output_type": "stream",
     "text": [
      "0.0397769328386\n",
      "1.75620833201e-61\n"
     ]
    }
   ],
   "source": [
    "ks_stat,ks_pval = goldbpzobj.KS(using='gridded',dx=0.0001)\n",
    "print ks_stat\n",
    "print ks_pval"
   ]
  },
  {
   "cell_type": "code",
   "execution_count": 64,
   "metadata": {
    "collapsed": false
   },
   "outputs": [
    {
     "name": "stdout",
     "output_type": "stream",
     "text": [
      "26.9731544947\n",
      "3.91808660516e-06\n"
     ]
    }
   ],
   "source": [
    "cvm_stat,cvm_pval=goldbpzobj.CvM(using='gridded',dx=0.0001)\n",
    "print cvm_stat\n",
    "print cvm_pval"
   ]
  },
  {
   "cell_type": "code",
   "execution_count": 65,
   "metadata": {
    "collapsed": false
   },
   "outputs": [
    {
     "name": "stdout",
     "output_type": "stream",
     "text": [
      "now with proper uniform range\n",
      "159.346793582\n",
      "1.54464009361e-08\n"
     ]
    }
   ],
   "source": [
    "ad_stat,ad_pval=goldbpzobj.AD(using='gridded',dx=0.0001,vmin=0.05,vmax=0.95)\n",
    "print ad_stat\n",
    "print ad_pval"
   ]
  },
  {
   "cell_type": "code",
   "execution_count": 70,
   "metadata": {
    "collapsed": false
   },
   "outputs": [
    {
     "name": "stdout",
     "output_type": "stream",
     "text": [
      "now with proper uniform range\n",
      "125.920158905\n",
      "1.7195425972e-08\n"
     ]
    }
   ],
   "source": [
    "ad_stat,ad_pval=goldbpzobj.AD(using='gridded',dx=0.0001,vmin=0.1,vmax=0.9)\n",
    "print ad_stat\n",
    "print ad_pval"
   ]
  },
  {
   "cell_type": "code",
   "execution_count": 72,
   "metadata": {
    "collapsed": false
   },
   "outputs": [
    {
     "name": "stdout",
     "output_type": "stream",
     "text": [
      "now with proper uniform range\n",
      "0.797704097785\n",
      "0.482697266929\n"
     ]
    }
   ],
   "source": [
    "ad_stat,ad_pval=goldbpzobj.AD(using='gridded',dx=0.0001,vmin=0.8,vmax=0.95)\n",
    "print ad_stat\n",
    "print ad_pval"
   ]
  },
  {
   "cell_type": "code",
   "execution_count": 67,
   "metadata": {
    "collapsed": false
   },
   "outputs": [
    {
     "data": {
      "image/png": "[encoded data removed]",
      "text/plain": [
       "<matplotlib.figure.Figure at 0x134fe98d0>"
      ]
     },
     "metadata": {},
     "output_type": "display_data"
    }
   ],
   "source": [
    "goldbpzobj.QQplot(using='gridded',dx=0.0001,Nquants=1001)"
   ]
  },
  {
   "cell_type": "code",
   "execution_count": 68,
   "metadata": {
    "collapsed": false
   },
   "outputs": [
    {
     "data": {
      "text/plain": [
       "<matplotlib.text.Text at 0x13ee361d0>"
      ]
     },
     "execution_count": 68,
     "metadata": {},
     "output_type": "execute_result"
    },
    {
     "data": {
      "image/png": "[encoded data removed]",
      "text/plain": [
       "<matplotlib.figure.Figure at 0x125692110>"
      ]
     },
     "metadata": {},
     "output_type": "display_data"
    }
   ],
   "source": [
    "fig = plt.figure(figsize=(15,15))\n",
    "plt.hist(goldPIT, normed=False, histtype='stepfilled', alpha=0.7,bins=np.arange(0.0,1.01,.01))\n",
    "plt.xlim([0.0,1.0])\n",
    "plt.xlabel(\"gold sample PIT value\",size=18)\n",
    "plt.ylabel(\"Number\",size=18)"
   ]
  },
  {
   "cell_type": "code",
   "execution_count": null,
   "metadata": {
    "collapsed": true
   },
   "outputs": [],
   "source": []
  }
 ],
 "metadata": {
  "kernelspec": {
   "display_name": "Python 2",
   "language": "python",
   "name": "python2"
  },
  "language_info": {
   "codemirror_mode": {
    "name": "ipython",
    "version": 2
   },
   "file_extension": ".py",
   "mimetype": "text/x-python",
   "name": "python",
   "nbconvert_exporter": "python",
   "pygments_lexer": "ipython2",
   "version": "2.7.11"
  }
 },
 "nbformat": 4,
 "nbformat_minor": 0
}
