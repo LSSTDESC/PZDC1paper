{
 "cells": [
  {
   "cell_type": "markdown",
   "metadata": {},
   "source": [
    "_Alex Malz (NYU)_\n",
    "\n",
    "# Experiments with plotting the PZ DC1 results"
   ]
  },
  {
   "cell_type": "code",
   "execution_count": 1,
   "metadata": {},
   "outputs": [],
   "source": [
    "import sys,os\n",
    "import numpy as np"
   ]
  },
  {
   "cell_type": "code",
   "execution_count": 2,
   "metadata": {},
   "outputs": [
    {
     "name": "stderr",
     "output_type": "stream",
     "text": [
      "/usr/common/software/python/2.7-anaconda-4.4/lib/python2.7/site-packages/matplotlib/__init__.py:1405: UserWarning: \n",
      "This call to matplotlib.use() has no effect because the backend has already\n",
      "been chosen; matplotlib.use() must be called *before* pylab, matplotlib.pyplot,\n",
      "or matplotlib.backends is imported for the first time.\n",
      "\n",
      "  warnings.warn(_use_error_msg)\n"
     ]
    }
   ],
   "source": [
    "import matplotlib as mpl\n",
    "import matplotlib.pyplot as plt\n",
    "mpl.use('Agg')\n",
    "mpl.rcParams['text.usetex'] = False\n",
    "mpl.rcParams['mathtext.rm'] = 'serif'\n",
    "mpl.rcParams['font.family'] = 'serif'\n",
    "mpl.rcParams['font.serif'] = 'Times New Roman'\n",
    "mpl.rcParams['axes.titlesize'] = 16\n",
    "mpl.rcParams['axes.labelsize'] = 14\n",
    "mpl.rcParams['savefig.dpi'] = 250\n",
    "mpl.rcParams['savefig.format'] = 'pdf'\n",
    "mpl.rcParams['savefig.bbox'] = 'tight'\n",
    "\n",
    "# %matplotlib inline"
   ]
  },
  {
   "cell_type": "code",
   "execution_count": 3,
   "metadata": {},
   "outputs": [],
   "source": [
    "metric_names = ['KS', 'CvM', 'AD']\n",
    "colors = ['b', 'k', 'r']\n",
    "#colors = ['royalblue', 'k', 'r']\n",
    "n_symb = 5\n",
    "shapes = [(n_symb, 3, 0), (n_symb-1, 0, 0), (n_symb, 1, 0), (n_symb+1, 2, 0)]"
   ]
  },
  {
   "cell_type": "code",
   "execution_count": 4,
   "metadata": {},
   "outputs": [],
   "source": [
    "def readTable(tablefile):\n",
    "    \"\"\"\n",
    "    function to read in the table data for KS,CvM, and AD stats\n",
    "    assumes that the data is in alphabetical order, same as the labels defined in main\n",
    "    input: \n",
    "        tablefile: string listing table filename\n",
    "    output:\n",
    "        data: datafile containing the KS, CvM, and two AD stats for the codes\n",
    "    \"\"\"\n",
    "    data = np.loadtxt(tablefile,skiprows=1,usecols=(1,2,3,4))\n",
    "    return data\n",
    "    "
   ]
  },
  {
   "cell_type": "code",
   "execution_count": 5,
   "metadata": {},
   "outputs": [
    {
     "data": {
      "text/plain": [
       "'2.0.2'"
      ]
     },
     "execution_count": 5,
     "metadata": {},
     "output_type": "execute_result"
    }
   ],
   "source": [
    "mpl.__version__"
   ]
  },
  {
   "cell_type": "code",
   "execution_count": null,
   "metadata": {},
   "outputs": [],
   "source": []
  },
  {
   "cell_type": "code",
   "execution_count": 6,
   "metadata": {},
   "outputs": [],
   "source": [
    "def make_patch_spines_invisible(ax):\n",
    "    ax.set_frame_on(True)\n",
    "    ax.patch.set_visible(False)\n",
    "    for sp in ax.spines.values():\n",
    "        sp.set_visible(False)\n",
    "\n",
    "def per_metric_helper(ax, n, data, codes):\n",
    "    plot_n = n+1\n",
    "    in_x = np.arange(len(codes))\n",
    "    ax_n = ax\n",
    "    ax_n.semilogy()\n",
    "\n",
    "\n",
    "#     ax.scatter(in_x, [-1]*len(codes), color='k', alpha=0, marker=shapes[n], s=50, label=metric_names[n])\n",
    "    n_factor = 0.15 * (plot_n - 2)\n",
    "    if plot_n>1:\n",
    "        ax_n = ax.twinx()\n",
    "        #rot_ang = 270\n",
    "        rot_ang=90\n",
    "        label_space = 15.\n",
    "    else:\n",
    "        #rot_ang = 90\n",
    "        rot_ang=90\n",
    "        label_space = 0.\n",
    "    if plot_n>2:\n",
    "        ax_n.spines[\"right\"].set_position((\"axes\", 1. + 0.1 * (plot_n-1)))\n",
    "        make_patch_spines_invisible(ax_n)\n",
    "        ax_n.spines[\"right\"].set_visible(True)\n",
    "    \n",
    "    #if n != 0:\n",
    "    #    data[n] *= -1.\n",
    "    ax_n.semilogy()\n",
    "        \n",
    "    handle = ax_n.scatter(in_x+n_factor, data[n], marker=shapes[plot_n], s=30, color=colors[n], label=metric_names[n])\n",
    "    ax_n.set_ylabel(metric_names[n], rotation=rot_ang, fontsize=14, labelpad=label_space)\n",
    "    \n",
    "    print('plotted '+metric_names[n]+': '+str(data[n]))\n",
    "    return(ax, ax_n, handle)\n",
    "\n",
    "def metric_plot(codes, data):\n",
    "    xs = np.arange(len(codes))\n",
    "    \n",
    "    fig, ax = plt.subplots()\n",
    "    fig.subplots_adjust(right=1.)\n",
    "    plt.xticks(xs, codes, rotation=45)\n",
    "    plt.xlabel('Photo-z code', fontsize=14)\n",
    "\n",
    "\n",
    "\n",
    "    handles = []\n",
    "#     for name in metric_names:\n",
    "#         handles.append(ax.scatter([0], [0], alpha=0.))\n",
    "    for n in range(len(metric_names)):\n",
    "        (ax, ax_n, handle) = per_metric_helper(ax, n, data, codes)\n",
    "        handles.append(handle)\n",
    "#     plt.xticklabels(codes)\n",
    "    #plt.xticks(xs, codes, rotation='vertical')\n",
    "    #plt.xticks(xs, codes, rotation=45)\n",
    "    #plt.subplots_adjust(bottom=-0.15)\n",
    "    plt.legend(handles, metric_names)\n",
    "#     plt.savefig('KSvsCvmvsAD.png')\n",
    "    return(fig)"
   ]
  },
  {
   "cell_type": "code",
   "execution_count": 7,
   "metadata": {},
   "outputs": [],
   "source": [
    "def pitmain():\n",
    "    codes = (\"ANNZ2\",\"BPZ\",\"DELIGHT\",\"EAZY\",\"FLEXZ\",\"GPZ\",\"LEPHARE\",\"METAPHOR\",\"CMNN\",\"SKYNET\",\"TPZ\",\"TRAINZ\")\n",
    "    labels = (\"ANNz2\",\"BPZ\",\"Delight\",\"EAZY\",\"FlexZBoost\",\"GPz\",\"LePhare\",\"METAPhoR\",\"NN\",\"SkyNet\",\"TPZ\",\"TrainZ\")\n",
    "    labeldict = dict(zip(codes,labels))\n",
    "\n",
    "    statdata = readTable(\"PITtabledata_withnull.dat\")\n",
    "    \n",
    "    all_ks = statdata[:,0]\n",
    "    all_cvm = statdata[:,1]\n",
    "    all_ad = statdata[:,3]\n",
    "    print (all_ks)\n",
    "    print (all_cvm)\n",
    "    print (all_ad)\n",
    "    \n",
    "    metric_data = np.array([all_ks, all_cvm, all_ad])\n",
    "    fig = metric_plot(codes, metric_data)\n",
    "    #plt.xticks(np.arange(len(codes)),codes,rotation=45)\n",
    "    #plt.title(\"PIT Stats\")\n",
    "    plt.savefig(\"KSvsCvMvsAD_PIT_withnull.pdf\", format='pdf')"
   ]
  },
  {
   "cell_type": "code",
   "execution_count": 8,
   "metadata": {},
   "outputs": [
    {
     "name": "stdout",
     "output_type": "stream",
     "text": [
      "[ 0.02    0.0388  0.0876  0.0723  0.024   0.0449  0.0663  0.0438  0.0795\n",
      "  0.0747  0.1138  0.0047]\n",
      "[  5.22500000e+01   2.80790000e+02   1.07517000e+03   1.10558000e+03\n",
      "   6.88300000e+01   2.58560000e+02   4.73050000e+02   2.98560000e+02\n",
      "   1.01111000e+03   7.63000000e+02   1.80174000e+03   1.16000000e+00]\n",
      "[  7.59200000e+02   1.55750000e+03   6.16750000e+03   4.41860000e+03\n",
      "   4.78800000e+02   1.41480000e+03   3.83800000e+02   7.15500000e+02\n",
      "   6.30750000e+03   4.21640000e+03   1.05657000e+04   7.70000000e+00]\n",
      "plotted KS: [ 0.02    0.0388  0.0876  0.0723  0.024   0.0449  0.0663  0.0438  0.0795\n",
      "  0.0747  0.1138  0.0047]\n",
      "plotted CvM: [  5.22500000e+01   2.80790000e+02   1.07517000e+03   1.10558000e+03\n",
      "   6.88300000e+01   2.58560000e+02   4.73050000e+02   2.98560000e+02\n",
      "   1.01111000e+03   7.63000000e+02   1.80174000e+03   1.16000000e+00]\n",
      "plotted AD: [  7.59200000e+02   1.55750000e+03   6.16750000e+03   4.41860000e+03\n",
      "   4.78800000e+02   1.41480000e+03   3.83800000e+02   7.15500000e+02\n",
      "   6.30750000e+03   4.21640000e+03   1.05657000e+04   7.70000000e+00]\n"
     ]
    },
    {
     "name": "stderr",
     "output_type": "stream",
     "text": [
      "/usr/common/software/python/2.7-anaconda-4.4/lib/python2.7/site-packages/matplotlib/font_manager.py:1297: UserWarning: findfont: Font family [u'serif'] not found. Falling back to DejaVu Sans\n",
      "  (prop.get_family(), self.defaultFamily[fontext]))\n"
     ]
    }
   ],
   "source": [
    "pitmain()"
   ]
  },
  {
   "cell_type": "code",
   "execution_count": null,
   "metadata": {},
   "outputs": [],
   "source": []
  },
  {
   "cell_type": "code",
   "execution_count": 9,
   "metadata": {},
   "outputs": [],
   "source": [
    "def nzmain():\n",
    "    codes = (\"ANNZ2\",\"BPZ\",\"DELIGHT\",\"EAZY\",\"FLEXZ\",\"GPZ\",\"LEPHARE\",\"METAPHOR\",\"CMNN\",\"SKYNET\",\"TPZ\",\"TRAINZ\")\n",
    "    labels = (\"ANNz2\",\"BPZ\",\"Delight\",\"EAZY\",\"FlexZBoost\",\"GPz\",\"LePhare\",\"METAPhoR\",\"NN\",\"SkyNet\",\"TPZ\",\"TrainZ\")\n",
    "    labeldict = dict(zip(codes,labels))\n",
    "\n",
    "    statdata = readTable(\"NZtabledata_withnull.dat\")\n",
    "    \n",
    "    all_ks = statdata[:,0]\n",
    "    all_cvm = statdata[:,1]\n",
    "    all_ad = statdata[:,3]\n",
    "    print (all_ks)\n",
    "    print (all_cvm)\n",
    "    print (all_ad)\n",
    "    \n",
    "    metric_data = np.array([all_ks, all_cvm, all_ad])\n",
    "    fig = metric_plot(codes, metric_data)\n",
    "    #plt.title(\"N(z) Stats\")\n",
    "    #plt.xticks(np.arange(len(codes)),codes,rotation=45)\n",
    "   \n",
    "    plt.savefig(\"KSvsCvMvsAD_NZ_withnull.pdf\", format='pdf')"
   ]
  },
  {
   "cell_type": "code",
   "execution_count": 10,
   "metadata": {},
   "outputs": [
    {
     "name": "stdout",
     "output_type": "stream",
     "text": [
      "[ 0.0237  0.0131  0.0256  0.0441  0.0128  0.0168  0.0254  0.035   0.0043\n",
      "  0.0483  0.0126  0.0048]\n",
      "[  25.676   17.587   42.341  169.977    7.007   25.605   58.9     60.79\n",
      "    0.538  385.83     9.483    1.161]\n",
      "[  276.    170.9   253.2   833.3   126.9   307.1   472.    672.3     5.8\n",
      "  2110.3   110.6     8.3]\n",
      "plotted KS: [ 0.0237  0.0131  0.0256  0.0441  0.0128  0.0168  0.0254  0.035   0.0043\n",
      "  0.0483  0.0126  0.0048]\n",
      "plotted CvM: [  25.676   17.587   42.341  169.977    7.007   25.605   58.9     60.79\n",
      "    0.538  385.83     9.483    1.161]\n",
      "plotted AD: [  276.    170.9   253.2   833.3   126.9   307.1   472.    672.3     5.8\n",
      "  2110.3   110.6     8.3]\n"
     ]
    }
   ],
   "source": [
    "nzmain()"
   ]
  },
  {
   "cell_type": "code",
   "execution_count": null,
   "metadata": {},
   "outputs": [],
   "source": []
  },
  {
   "cell_type": "code",
   "execution_count": null,
   "metadata": {},
   "outputs": [],
   "source": []
  },
  {
   "cell_type": "code",
   "execution_count": null,
   "metadata": {},
   "outputs": [],
   "source": []
  },
  {
   "cell_type": "code",
   "execution_count": null,
   "metadata": {},
   "outputs": [],
   "source": []
  },
  {
   "cell_type": "code",
   "execution_count": null,
   "metadata": {},
   "outputs": [],
   "source": []
  },
  {
   "cell_type": "code",
   "execution_count": null,
   "metadata": {},
   "outputs": [],
   "source": []
  },
  {
   "cell_type": "code",
   "execution_count": null,
   "metadata": {},
   "outputs": [],
   "source": []
  },
  {
   "cell_type": "code",
   "execution_count": null,
   "metadata": {},
   "outputs": [],
   "source": []
  }
 ],
 "metadata": {
  "kernelspec": {
   "display_name": "Python 2",
   "language": "python",
   "name": "python2"
  },
  "language_info": {
   "codemirror_mode": {
    "name": "ipython",
    "version": 2
   },
   "file_extension": ".py",
   "mimetype": "text/x-python",
   "name": "python",
   "nbconvert_exporter": "python",
   "pygments_lexer": "ipython2",
   "version": "2.7.13"
  }
 },
 "nbformat": 4,
 "nbformat_minor": 2
}
