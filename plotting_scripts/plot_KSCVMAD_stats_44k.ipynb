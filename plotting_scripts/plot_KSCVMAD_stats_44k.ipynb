{
 "cells": [
  {
   "cell_type": "markdown",
   "metadata": {},
   "source": [
    "_Alex Malz (NYU)_\n",
    "\n",
    "# Experiments with plotting the PZ DC1 results"
   ]
  },
  {
   "cell_type": "code",
   "execution_count": 1,
   "metadata": {},
   "outputs": [],
   "source": [
    "import sys,os\n",
    "import numpy as np"
   ]
  },
  {
   "cell_type": "code",
   "execution_count": 2,
   "metadata": {},
   "outputs": [],
   "source": [
    "import matplotlib as mpl\n",
    "import matplotlib.pyplot as plt\n",
    "mpl.use('Agg')\n",
    "#mpl.rcParams['text.usetex'] = False\n",
    "#mpl.rcParams['mathtext.rm'] = 'serif'\n",
    "#mpl.rcParams['font.family'] = 'serif'\n",
    "#mpl.rcParams['font.serif'] = 'Times New Roman'\n",
    "mpl.rcParams['axes.titlesize'] = 16\n",
    "mpl.rcParams['axes.labelsize'] = 14\n",
    "mpl.rcParams['savefig.dpi'] = 250\n",
    "mpl.rcParams['savefig.format'] = 'pdf'\n",
    "mpl.rcParams['savefig.bbox'] = 'tight'\n",
    "\n",
    "# %matplotlib inline"
   ]
  },
  {
   "cell_type": "code",
   "execution_count": 3,
   "metadata": {},
   "outputs": [],
   "source": [
    "metric_names = ['KS', 'CvM', 'AD']\n",
    "colors = ['b', 'k', 'r']\n",
    "#colors = ['royalblue', 'k', 'r']\n",
    "n_symb = 5\n",
    "linewidths = [1.3,1.1,1.05]\n",
    "shapes = [(n_symb, 3, 0), (n_symb-1, 0, 0), (n_symb, 1, 0), (n_symb+1, 2, 0)]"
   ]
  },
  {
   "cell_type": "code",
   "execution_count": 4,
   "metadata": {},
   "outputs": [],
   "source": [
    "def readTable(tablefile):\n",
    "    \"\"\"\n",
    "    function to read in the table data for KS,CvM, and AD stats\n",
    "    assumes that the data is in alphabetical order, same as the labels defined in main\n",
    "    input: \n",
    "        tablefile: string listing table filename\n",
    "    output:\n",
    "        data: datafile containing the KS, CvM, and two AD stats for the codes\n",
    "    \"\"\"\n",
    "    data = np.loadtxt(tablefile,skiprows=1,usecols=(1,2,3,4))\n",
    "    return data\n",
    "    "
   ]
  },
  {
   "cell_type": "code",
   "execution_count": 5,
   "metadata": {},
   "outputs": [
    {
     "data": {
      "text/plain": [
       "'3.1.0'"
      ]
     },
     "execution_count": 5,
     "metadata": {},
     "output_type": "execute_result"
    }
   ],
   "source": [
    "mpl.__version__"
   ]
  },
  {
   "cell_type": "code",
   "execution_count": null,
   "metadata": {},
   "outputs": [],
   "source": []
  },
  {
   "cell_type": "code",
   "execution_count": 6,
   "metadata": {},
   "outputs": [],
   "source": [
    "def make_patch_spines_invisible(ax):\n",
    "    ax.set_frame_on(True)\n",
    "    ax.patch.set_visible(False)\n",
    "    for sp in ax.spines.values():\n",
    "        sp.set_visible(False)\n",
    "\n",
    "def per_metric_helper(ax, n, data, codes):\n",
    "    #bootstrap_sigmas = np.array([0.01085,6.789,46.855]) #sigmas from bootstrapping for PIT\n",
    "    #new values for 44k sample!\n",
    "    bootstrap_sigmas=np.array([0.00968,5.109,36.215]) #sigmas for 44k PIT\n",
    "    \n",
    "\n",
    "    #bootstrap_sigmas = np.array([0.0106,6.879, 317.96]) #sigmas from bootstrapping for N(z) 30k\n",
    "    plot_n = n+1\n",
    "    in_x = np.arange(len(codes))\n",
    "    ax_n = ax\n",
    "    ax_n.semilogy()\n",
    "\n",
    "\n",
    "#     ax.scatter(in_x, [-1]*len(codes), color='k', alpha=0, marker=shapes[n], s=50, label=metric_names[n])\n",
    "    n_factor = 0.17 * (plot_n - 2)\n",
    "\n",
    "    if plot_n>1:\n",
    "        ax_n = ax.twinx()\n",
    "        #rot_ang = 270\n",
    "        rot_ang=90\n",
    "        label_space = 15.\n",
    "    else:\n",
    "        #rot_ang = 90\n",
    "        rot_ang=90\n",
    "        label_space = 0.\n",
    "    if plot_n>2:\n",
    "        ax_n.spines[\"right\"].set_position((\"axes\", 1. + 0.1 * (plot_n-1)))\n",
    "        make_patch_spines_invisible(ax_n)\n",
    "        ax_n.spines[\"right\"].set_visible(True)\n",
    "    \n",
    "    #if n != 0:\n",
    "    #    data[n] *= -1.\n",
    "    ax_n.semilogy()\n",
    "    ### set ylim fixed\n",
    "    tp = np.log10(np.amax(data[n]))\n",
    "    bt = np.log10(np.amin(data[n]))\n",
    "    dely = 10.**(0.13*(tp-bt))\n",
    "    \n",
    "    ax_n.set_ylim(np.amin(data[n])/dely,np.amax(data[n])*dely)\n",
    "\n",
    "    \n",
    "    handle = ax_n.scatter(in_x+n_factor, data[n], marker=shapes[plot_n], s=40, color=colors[n], label=metric_names[n])\n",
    "    handle2, = ax_n.plot([np.amin(in_x),np.amax(in_x)],[bootstrap_sigmas[n],bootstrap_sigmas[n]],lw=linewidths[n],color=colors[n],\n",
    "              linestyle='--',label=metric_names[n])\n",
    "    #ax_n.plot([np.amin(in_x),np.amax(in_x)],[bootstrap_sigmas[n]*2.,bootstrap_sigmas[n]*2.],lw=1.35,color=colors[n])\n",
    "    ax_n.set_ylabel(metric_names[n], rotation=rot_ang, fontsize=14, labelpad=label_space)\n",
    "    print('plotted '+metric_names[n]+': '+str(data[n]))\n",
    "    return(ax, ax_n, handle,handle2)\n",
    "\n",
    "def metric_plot(codes, data):\n",
    "    xs = np.arange(len(codes))\n",
    "    \n",
    "    fig, ax = plt.subplots()\n",
    "    fig.subplots_adjust(right=1.)\n",
    "    plt.xticks(xs, codes, rotation=45)\n",
    "    plt.xlabel('Photo-z code', fontsize=14)\n",
    "\n",
    "\n",
    "\n",
    "    handles = []\n",
    "    #handles, labels = ax.get_legend_handles_labels()\n",
    "#     for name in metric_names:\n",
    "#         handles.append(ax.scatter([0], [0], alpha=0.))\n",
    "    for n in range(len(metric_names)):\n",
    "        (ax, ax_n, handle,handle2) = per_metric_helper(ax, n, data, codes)\n",
    "        handles.append(handle)\n",
    "        handles.append(handle2)\n",
    "#     plt.xticklabels(codes)\n",
    "    #plt.xticks(xs, codes, rotation='vertical')\n",
    "    #plt.xticks(xs, codes, rotation=45)\n",
    "    #plt.subplots_adjust(bottom=-0.15)\n",
    "    \n",
    "    newnames = metric_names[:]\n",
    "    print(newnames)\n",
    "    for n in range(len(metric_names)):\n",
    "        newnames.insert(2*n+1,f\"{metric_names[n]} bootstrap error\")\n",
    "    print(newnames)\n",
    "    #plt.legend(handles, metric_names,loc='lower left',scatterpoints=1)\n",
    "    plt.legend(handles, newnames,bbox_to_anchor=(0., 1.0, 1., .10),ncol=3,loc='lower left',fontsize=10)\n",
    "\n",
    "\n",
    "#     plt.savefig('KSvsCvmvsAD.png')\n",
    "    return(fig)"
   ]
  },
  {
   "cell_type": "code",
   "execution_count": 7,
   "metadata": {},
   "outputs": [],
   "source": [
    "def pitmain():\n",
    "    codes = (\"ANNZ2\",\"BPZ\",\"DELIGHT\",\"EAZY\",\"FLEXZ\",\"GPZ\",\"LEPHARE\",\"METAPHOR\",\"CMNN\",\"SKYNET\",\"TPZ\",\"TRAINZ\")\n",
    "    labels = (\"ANNz2\",\"BPZ\",\"Delight\",\"EAZY\",\"FlexZBoost\",\"GPz\",\"LePhare\",\"METAPhoR\",\"NN\",\"SkyNet\",\"TPZ\",\"TrainZ\")\n",
    "    labeldict = dict(zip(codes,labels))\n",
    "\n",
    "    statdata = readTable(\"PITtabledata_withnull.dat\")\n",
    "    \n",
    "    all_ks = statdata[:,0]\n",
    "    all_cvm = statdata[:,1]\n",
    "    all_ad = statdata[:,3]\n",
    "    print (all_ks)\n",
    "    print (all_cvm)\n",
    "    print (all_ad)\n",
    "    \n",
    "    metric_data = np.array([all_ks, all_cvm, all_ad])\n",
    "    fig = metric_plot(codes, metric_data)\n",
    "    #plt.xticks(np.arange(len(codes)),codes,rotation=45)\n",
    "    #plt.title(\"PIT Stats\")\n",
    "    plt.savefig(\"KSvsCvMvsAD_PIT_withnull_44k.pdf\", format='pdf')"
   ]
  },
  {
   "cell_type": "code",
   "execution_count": 8,
   "metadata": {},
   "outputs": [],
   "source": [
    "##pitmain()"
   ]
  },
  {
   "cell_type": "code",
   "execution_count": 9,
   "metadata": {},
   "outputs": [],
   "source": [
    "#print ssdfsdjl"
   ]
  },
  {
   "cell_type": "code",
   "execution_count": 10,
   "metadata": {},
   "outputs": [],
   "source": [
    "def nzmain():\n",
    "    codes = (\"ANNZ2\",\"BPZ\",\"DELIGHT\",\"EAZY\",\"FLEXZ\",\"GPZ\",\"LEPHARE\",\"METAPHOR\",\"CMNN\",\"SKYNET\",\"TPZ\",\"TRAINZ\")\n",
    "    labels = (\"ANNz2\",\"BPZ\",\"Delight\",\"EAZY\",\"FlexZBoost\",\"GPz\",\"LePhare\",\"METAPhoR\",\"NN\",\"SkyNet\",\"TPZ\",\"TrainZ\")\n",
    "    labeldict = dict(zip(codes,labels))\n",
    "\n",
    "    statdata = readTable(\"NZtabledata_withnull.dat\")\n",
    "    \n",
    "    all_ks = statdata[:,0]\n",
    "    all_cvm = statdata[:,1]\n",
    "    all_ad = statdata[:,3]\n",
    "    print (all_ks)\n",
    "    print (all_cvm)\n",
    "    print (all_ad)\n",
    "    \n",
    "    metric_data = np.array([all_ks, all_cvm, all_ad])\n",
    "    fig = metric_plot(codes, metric_data)\n",
    "    #plt.title(\"N(z) Stats\")\n",
    "    #plt.xticks(np.arange(len(codes)),codes,rotation=45)\n",
    "   \n",
    "    plt.savefig(\"KSvsCvMvsAD_NZ_withnull_44k.pdf\", format='pdf')"
   ]
  },
  {
   "cell_type": "code",
   "execution_count": 11,
   "metadata": {},
   "outputs": [
    {
     "name": "stdout",
     "output_type": "stream",
     "text": [
      "[0.0237 0.0131 0.0256 0.0441 0.0128 0.0206 0.0254 0.035  0.0043 0.0483\n",
      " 0.0126 0.0048]\n",
      "[ 25.676  17.587  42.341 169.977   7.007  19.103  58.9    60.79    0.538\n",
      " 385.83    9.483   1.161]\n",
      "[ 276.   170.9  253.2  833.3  126.9  230.4  472.   672.3    5.8 2110.3\n",
      "  110.6    8.3]\n",
      "plotted KS: [0.0237 0.0131 0.0256 0.0441 0.0128 0.0206 0.0254 0.035  0.0043 0.0483\n",
      " 0.0126 0.0048]\n",
      "plotted CvM: [ 25.676  17.587  42.341 169.977   7.007  19.103  58.9    60.79    0.538\n",
      " 385.83    9.483   1.161]\n",
      "plotted AD: [ 276.   170.9  253.2  833.3  126.9  230.4  472.   672.3    5.8 2110.3\n",
      "  110.6    8.3]\n",
      "['KS', 'CvM', 'AD']\n",
      "['KS', 'KS bootstrap error', 'CvM', 'CvM bootstrap error', 'AD', 'AD bootstrap error']\n"
     ]
    },
    {
     "data": {
      "image/png": "[encoded data removed]",
      "text/plain": [
       "<Figure size 432x288 with 3 Axes>"
      ]
     },
     "metadata": {
      "needs_background": "light"
     },
     "output_type": "display_data"
    }
   ],
   "source": [
    "nzmain()"
   ]
  },
  {
   "cell_type": "code",
   "execution_count": null,
   "metadata": {},
   "outputs": [],
   "source": []
  },
  {
   "cell_type": "code",
   "execution_count": null,
   "metadata": {},
   "outputs": [],
   "source": []
  },
  {
   "cell_type": "code",
   "execution_count": null,
   "metadata": {},
   "outputs": [],
   "source": []
  },
  {
   "cell_type": "code",
   "execution_count": null,
   "metadata": {},
   "outputs": [],
   "source": []
  },
  {
   "cell_type": "code",
   "execution_count": null,
   "metadata": {},
   "outputs": [],
   "source": []
  },
  {
   "cell_type": "code",
   "execution_count": null,
   "metadata": {},
   "outputs": [],
   "source": []
  },
  {
   "cell_type": "code",
   "execution_count": null,
   "metadata": {},
   "outputs": [],
   "source": []
  },
  {
   "cell_type": "code",
   "execution_count": null,
   "metadata": {},
   "outputs": [],
   "source": []
  }
 ],
 "metadata": {
  "kernelspec": {
   "display_name": "python3.7",
   "language": "python",
   "name": "python37"
  },
  "language_info": {
   "codemirror_mode": {
    "name": "ipython",
    "version": 3
   },
   "file_extension": ".py",
   "mimetype": "text/x-python",
   "name": "python",
   "nbconvert_exporter": "python",
   "pygments_lexer": "ipython3",
   "version": "3.7.3"
  }
 },
 "nbformat": 4,
 "nbformat_minor": 2
}
